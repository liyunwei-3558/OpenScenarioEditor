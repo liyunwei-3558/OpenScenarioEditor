{
 "cells": [
  {
   "cell_type": "code",
   "execution_count": 1,
   "metadata": {},
   "outputs": [],
   "source": [
    "import xml.etree.ElementTree as ET"
   ]
  },
  {
   "cell_type": "code",
   "execution_count": 2,
   "metadata": {},
   "outputs": [],
   "source": [
    "# 欲修改文件\n",
    "xml_path = './51/try2.xosc'\n",
    "tree = ET.parse(xml_path)\n",
    "# <xml.etree.ElementTree.ElementTree object at 0x00000230D5DDF1C0>\n",
    "root = tree.getroot()"
   ]
  },
  {
   "cell_type": "code",
   "execution_count": 4,
   "metadata": {},
   "outputs": [
    {
     "name": "stdout",
     "output_type": "stream",
     "text": [
      "FileHeader : {'author': 'SimOne', 'date': '2023-03-14T14:12:24', 'description': '', 'revMajor': '2', 'revMinor': '2'}\n",
      "CatalogLocations : {}\n",
      "RoadNetwork : {}\n",
      "LogicFile : {'filepath': '022eb3e0-c22f-11ed-a8d8-417a2e436efa.xodr'}\n",
      "Entities : {}\n",
      "ScenarioObject : {'name': '53427870-c22f-11ed-bef7-3d48f45ba1b2'}\n",
      "ScenarioObject : {'name': '617c7ac0-c230-11ed-bef7-3d48f45ba1b2'}\n",
      "ScenarioObject : {'name': 'Ego'}\n",
      "Storyboard : {}\n",
      "Init : {}\n",
      "Story : {'name': 'Story'}\n",
      "StopTrigger : {}\n"
     ]
    }
   ],
   "source": [
    "# 遍历xml文档的第二层\n",
    "for child in root:\n",
    "    # 第二层节点的标签名称和属性\n",
    "    print(child.tag,\":\", child.attrib) \n",
    "    # 遍历xml文档的第三层\n",
    "    for children in child:\n",
    "        # 第三层节点的标签名称和属性\n",
    "        print(children.tag, \":\", children.attrib)"
   ]
  },
  {
   "cell_type": "code",
   "execution_count": 8,
   "metadata": {},
   "outputs": [],
   "source": [
    "root.find('FileHeader').attrib['author'] = 'Yunwei_Li'"
   ]
  },
  {
   "cell_type": "code",
   "execution_count": 22,
   "metadata": {},
   "outputs": [
    {
     "data": {
      "text/plain": [
       "{'author': 'Yunwei_Li',\n",
       " 'date': '2023-03-14T14:12:24',\n",
       " 'description': '',\n",
       " 'revMajor': '2',\n",
       " 'revMinor': '2'}"
      ]
     },
     "execution_count": 22,
     "metadata": {},
     "output_type": "execute_result"
    }
   ],
   "source": [
    "root.find('FileHeader').attrib"
   ]
  },
  {
   "cell_type": "code",
   "execution_count": 20,
   "metadata": {},
   "outputs": [
    {
     "data": {
      "text/plain": [
       "[<Element 'ScenarioObject' at 0x7f66bc36f040>,\n",
       " <Element 'ScenarioObject' at 0x7f66bc36f590>,\n",
       " <Element 'ScenarioObject' at 0x7f66bc36fa40>]"
      ]
     },
     "execution_count": 20,
     "metadata": {},
     "output_type": "execute_result"
    }
   ],
   "source": [
    "root.findall(\".//Vehicle/..\")"
   ]
  },
  {
   "cell_type": "code",
   "execution_count": 28,
   "metadata": {},
   "outputs": [
    {
     "data": {
      "text/plain": [
       "{'filepath': 'Town05'}"
      ]
     },
     "execution_count": 28,
     "metadata": {},
     "output_type": "execute_result"
    }
   ],
   "source": [
    "root.find('./RoadNetwork/LogicFile').attrib['filepath'] = 'Town05'\n",
    "root.find('./RoadNetwork/LogicFile').attrib"
   ]
  },
  {
   "cell_type": "code",
   "execution_count": 35,
   "metadata": {},
   "outputs": [
    {
     "name": "stdout",
     "output_type": "stream",
     "text": [
      "<Element 'Vehicle' at 0x7f66bc36fa90>\n"
     ]
    }
   ],
   "source": [
    "# change the information of Ego car\n",
    "for ego in root.findall(\".//ScenarioObject[@name='Ego']\"):\n",
    "    ego.set('name', 'ego_vehicle')\n",
    "    performance = ego.find('./Vehicle/Performance')\n",
    "    performance.set('maxAcceleration', '10.0')\n",
    "    performance.set('maxDeceleration', '10.0')\n",
    "    performance.set('maxSpeed', '69.444')\n",
    "    \n",
    "    \n",
    "    "
   ]
  },
  {
   "cell_type": "code",
   "execution_count": 42,
   "metadata": {},
   "outputs": [],
   "source": [
    "new = ET.parse('./EgoVehicle.xml').getroot()\n",
    "root.append(new)\n"
   ]
  },
  {
   "cell_type": "code",
   "execution_count": 41,
   "metadata": {},
   "outputs": [
    {
     "name": "stdout",
     "output_type": "stream",
     "text": [
      "b'<Vehicle name=\"simonedriver\" vehicleCategory=\"car\">\\n        <BoundingBox>\\n          <Center x=\"0\" y=\"0\" z=\"0\" />\\n          <Dimensions height=\"1.48\" length=\"4.93\" width=\"1.86\" />\\n        </BoundingBox>\\n        <Performance maxSpeed=\"69.444\" maxAcceleration=\"10.0\" maxDeceleration=\"10.0\" />\\n        <Axles>\\n          <FrontAxle maxSteering=\"0.5\" wheelDiameter=\"0.6\" trackWidth=\"1.8\" positionX=\"3.1\" positionZ=\"0.3\" />\\n          <RearAxle maxSteering=\"0.0\" wheelDiameter=\"0.6\" trackWidth=\"1.8\" positionX=\"0.0\" positionZ=\"0.3\" />\\n        </Axles>\\n        <Properties>\\n          \\n          <Property name=\"category\" value=\"ego_vehicle\" />\\n          <Property name=\"name\" value=\"SimOneDriver_controller\" />\\n          <Property name=\"obuId\" value=\"0\" />\\n          <Property name=\"obu_enabled\" value=\"false\" />\\n          <Property name=\"type\" value=\"ego_vehicle\" />\\n          <Property name=\"color\" value=\"0,0,255\" />\\n        </Properties>\\n</Vehicle>'\n"
     ]
    }
   ],
   "source": [
    "print(newStr)"
   ]
  },
  {
   "cell_type": "code",
   "execution_count": 17,
   "metadata": {},
   "outputs": [],
   "source": [
    "data = None\n",
    "\n",
    "with open(xml_path, \"r\", encoding='UTF-8') as f:\n",
    "    data = f.read()\n",
    "    data = data.replace('Ego', 'ego_vehicle')\n",
    "    # for l in f.readlines:\n",
    "    #     l.replace('Ego', 'ego_vehicle')\n",
    "    # f.write('rep.xml')\n",
    "    f.close()\n",
    "    \n",
    "with open('rep.xml','w', encoding='UTF-8') as f:\n",
    "    f.write(data)"
   ]
  },
  {
   "cell_type": "code",
   "execution_count": 3,
   "metadata": {},
   "outputs": [
    {
     "ename": "SyntaxError",
     "evalue": "invalid descendant (<string>)",
     "output_type": "error",
     "traceback": [
      "Traceback \u001b[0;36m(most recent call last)\u001b[0m:\n",
      "\u001b[0;36m  File \u001b[0;32m\"/home/lyw/anaconda3/lib/python3.9/xml/etree/ElementPath.py\"\u001b[0;36m, line \u001b[0;32m353\u001b[0;36m, in \u001b[0;35miterfind\u001b[0;36m\u001b[0m\n\u001b[0;31m    selector = _cache[cache_key]\u001b[0m\n",
      "\u001b[0;31mKeyError\u001b[0m\u001b[0;31m:\u001b[0m ('.//[@y]/..',)\n",
      "\nDuring handling of the above exception, another exception occurred:\n",
      "Traceback \u001b[0;36m(most recent call last)\u001b[0m:\n",
      "  File \u001b[1;32m\"/home/lyw/anaconda3/lib/python3.9/site-packages/IPython/core/interactiveshell.py\"\u001b[0m, line \u001b[1;32m3457\u001b[0m, in \u001b[1;35mrun_code\u001b[0m\n    exec(code_obj, self.user_global_ns, self.user_ns)\n",
      "  File \u001b[1;32m\"/tmp/ipykernel_16102/2217981734.py\"\u001b[0m, line \u001b[1;32m1\u001b[0m, in \u001b[1;35m<module>\u001b[0m\n    root.findall('.//[@y]/..')\n",
      "  File \u001b[1;32m\"/home/lyw/anaconda3/lib/python3.9/xml/etree/ElementPath.py\"\u001b[0m, line \u001b[1;32m394\u001b[0m, in \u001b[1;35mfindall\u001b[0m\n    return list(iterfind(elem, path, namespaces))\n",
      "  File \u001b[1;32m\"/home/lyw/anaconda3/lib/python3.9/xml/etree/ElementPath.py\"\u001b[0m, line \u001b[1;32m367\u001b[0m, in \u001b[1;35miterfind\u001b[0m\n    selector.append(ops[token[0]](next, token))\n",
      "\u001b[0;36m  File \u001b[0;32m\"/home/lyw/anaconda3/lib/python3.9/xml/etree/ElementPath.py\"\u001b[0;36m, line \u001b[0;32m192\u001b[0;36m, in \u001b[0;35mprepare_descendant\u001b[0;36m\u001b[0m\n\u001b[0;31m    raise SyntaxError(\"invalid descendant\")\u001b[0m\n",
      "\u001b[0;36m  File \u001b[0;32m\"<string>\"\u001b[0;36m, line \u001b[0;32munknown\u001b[0m\n\u001b[0;31mSyntaxError\u001b[0m\u001b[0;31m:\u001b[0m invalid descendant\n"
     ]
    }
   ],
   "source": [
    "root.findall('.//[@y]/..')"
   ]
  },
  {
   "cell_type": "code",
   "execution_count": null,
   "metadata": {},
   "outputs": [],
   "source": []
  }
 ],
 "metadata": {
  "kernelspec": {
   "display_name": "Python 3",
   "language": "python",
   "name": "python3"
  },
  "language_info": {
   "codemirror_mode": {
    "name": "ipython",
    "version": 3
   },
   "file_extension": ".py",
   "mimetype": "text/x-python",
   "name": "python",
   "nbconvert_exporter": "python",
   "pygments_lexer": "ipython3",
   "version": "3.9.13"
  },
  "orig_nbformat": 4
 },
 "nbformat": 4,
 "nbformat_minor": 2
}
